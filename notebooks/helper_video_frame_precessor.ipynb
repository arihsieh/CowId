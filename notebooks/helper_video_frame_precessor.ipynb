{
 "cells": [
  {
   "attachments": {},
   "cell_type": "markdown",
   "metadata": {},
   "source": [
    "## Convert video into frames"
   ]
  },
  {
   "cell_type": "code",
   "execution_count": null,
   "metadata": {},
   "outputs": [],
   "source": [
    "# If the library isn't insalled, run the following command\n",
    "# !pip install opencv-python"
   ]
  },
  {
   "cell_type": "code",
   "execution_count": null,
   "metadata": {},
   "outputs": [],
   "source": [
    "## Import the library\n",
    "import cv2\n",
    "import os\n",
    "import glob"
   ]
  },
  {
   "cell_type": "code",
   "execution_count": null,
   "metadata": {},
   "outputs": [],
   "source": [
    "## Function that converts video into frames by taking the video path as input\n",
    "\n",
    "def video_to_frames(input_loc, output_loc, filename):\n",
    "\n",
    "    # Create folder if not exists\n",
    "    if not os.path.exists(output_loc):\n",
    "        os.makedirs(output_loc)\n",
    "        \n",
    "    vidcap = cv2.VideoCapture(input_loc)\n",
    "    success, image = vidcap.read()\n",
    "    count = 0\n",
    "    while success:\n",
    "        # For raw videos, use the one with if\n",
    "        if (count % 2 == 0): cv2.imwrite(f'{output_loc}/{filename}-{str(count).zfill(8)}.jpg', image)  \n",
    "        # cv2.imwrite(f'{output_loc}/{filename}-{str(count).zfill(8)}.jpg', image)     # save frame as JPEG file      \n",
    "        success,image = vidcap.read()\n",
    "        print('Read a new frame: ', count)\n",
    "        count += 1"
   ]
  },
  {
   "attachments": {},
   "cell_type": "markdown",
   "metadata": {},
   "source": [
    "To convert a single video"
   ]
  },
  {
   "cell_type": "code",
   "execution_count": null,
   "metadata": {},
   "outputs": [],
   "source": [
    "video_to_frames('../raw_data/221203.360.01.mp4', '../raw_data/221203.360.01/', '221203.360.01')"
   ]
  },
  {
   "attachments": {},
   "cell_type": "markdown",
   "metadata": {},
   "source": [
    "To convert all videos from a directory"
   ]
  },
  {
   "cell_type": "code",
   "execution_count": null,
   "metadata": {},
   "outputs": [],
   "source": [
    "\n",
    "READ_DIRECTORY = '../videos'\n",
    "SAVE_DIRECTORY = '../frames'\n",
    "\n",
    "for file_path in glob.glob(f'{READ_DIRECTORY}/*.mp4'):\n",
    "    filename = os.path.splitext(os.path.basename(file_path))[0]\n",
    "    print(f\"Splitting {filename}\")\n",
    "    video_to_frames(file_path, SAVE_DIRECTORY, filename)"
   ]
  }
 ],
 "metadata": {
  "kernelspec": {
   "display_name": "Python 3.9.6 ('base')",
   "language": "python",
   "name": "python3"
  },
  "language_info": {
   "codemirror_mode": {
    "name": "ipython",
    "version": 3
   },
   "file_extension": ".py",
   "mimetype": "text/x-python",
   "name": "python",
   "nbconvert_exporter": "python",
   "pygments_lexer": "ipython3",
   "version": "3.10.9"
  },
  "orig_nbformat": 4,
  "vscode": {
   "interpreter": {
    "hash": "c11202d2846b22eec7deaf37ea813ba92a5f75b5344a4d16688175855af7948e"
   }
  }
 },
 "nbformat": 4,
 "nbformat_minor": 2
}
