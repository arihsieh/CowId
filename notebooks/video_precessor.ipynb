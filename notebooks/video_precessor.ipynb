{
 "cells": [
  {
   "attachments": {},
   "cell_type": "markdown",
   "metadata": {},
   "source": [
    "## Convert video into frames"
   ]
  },
  {
   "cell_type": "code",
   "execution_count": null,
   "metadata": {},
   "outputs": [],
   "source": [
    "## If the library isn't insalled, run the following command\n",
    "# !pip install opencv-python"
   ]
  },
  {
   "cell_type": "code",
   "execution_count": null,
   "metadata": {},
   "outputs": [],
   "source": [
    "## Import the library\n",
    "import cv2\n",
    "import os"
   ]
  },
  {
   "cell_type": "code",
   "execution_count": null,
   "metadata": {},
   "outputs": [],
   "source": [
    "## Function that converts video into frames by taking the video path as input\n",
    "\n",
    "def video_to_frames(input_loc, output_loc):\n",
    "\n",
    "    # Create folder if not exists\n",
    "    if not os.path.exists(output_loc):\n",
    "        os.makedirs(output_loc)\n",
    "        \n",
    "    vidcap = cv2.VideoCapture(input_loc)\n",
    "    success,image = vidcap.read()\n",
    "    count = 0\n",
    "    while success:\n",
    "      cv2.imwrite(output_loc + \"frame%d.jpg\" % count, image)     # save frame as JPEG file      \n",
    "      success,image = vidcap.read()\n",
    "      print('Read a new frame: ', count)\n",
    "      count += 1"
   ]
  },
  {
   "cell_type": "code",
   "execution_count": null,
   "metadata": {},
   "outputs": [],
   "source": [
    "video_to_frames('../raw_data/221203.360.01.mp4', '../raw_data/221203.360.01/')"
   ]
  },
  {
   "cell_type": "code",
   "execution_count": null,
   "metadata": {},
   "outputs": [],
   "source": [
    "video_to_frames('../raw_data/221203.360.02.mp4', '../raw_data/221203.360.02/')"
   ]
  },
  {
   "attachments": {},
   "cell_type": "markdown",
   "metadata": {},
   "source": [
    "## Rotate video"
   ]
  },
  {
   "cell_type": "code",
   "execution_count": null,
   "metadata": {},
   "outputs": [],
   "source": [
    "# Just run once\n",
    "\n",
    "# !pip install moviepy\n",
    "# brew install ffmpeg -> With console running in rosetta mode"
   ]
  },
  {
   "cell_type": "code",
   "execution_count": null,
   "metadata": {},
   "outputs": [],
   "source": [
    "import os\n",
    "\n",
    "os.environ[\"IMAGEIO_FFMPEG_EXE\"] = \"/usr/local/Cellar/ffmpeg/5.1.2_1/bin/ffmpeg\"\n",
    "\n",
    "from moviepy.editor import *"
   ]
  },
  {
   "cell_type": "code",
   "execution_count": null,
   "metadata": {},
   "outputs": [],
   "source": [
    "angle = 30\n",
    "height = 360\n",
    "width = 640\n",
    "\n",
    "clip = VideoFileClip('../raw_data/221203.360.02.mp4')\n",
    "clip = clip.resize(height=height)\n",
    "clip = clip.rotate(angle)\n",
    "clip = clip.crop(width=width, height=height, x_center=clip.w/2, y_center=clip.h/2)\n",
    "print(clip.size)\n",
    "\n",
    "clip.ipython_display()"
   ]
  },
  {
   "cell_type": "code",
   "execution_count": null,
   "metadata": {},
   "outputs": [],
   "source": [
    "# Save the video\n",
    "clip.write_videofile('../raw_data/221203.360.02.mp4', fps=30)"
   ]
  },
  {
   "cell_type": "code",
   "execution_count": null,
   "metadata": {},
   "outputs": [],
   "source": []
  }
 ],
 "metadata": {
  "kernelspec": {
   "display_name": "Python 3.9.6 ('base')",
   "language": "python",
   "name": "python3"
  },
  "language_info": {
   "codemirror_mode": {
    "name": "ipython",
    "version": 3
   },
   "file_extension": ".py",
   "mimetype": "text/x-python",
   "name": "python",
   "nbconvert_exporter": "python",
   "pygments_lexer": "ipython3",
   "version": "3.9.6"
  },
  "orig_nbformat": 4,
  "vscode": {
   "interpreter": {
    "hash": "c11202d2846b22eec7deaf37ea813ba92a5f75b5344a4d16688175855af7948e"
   }
  }
 },
 "nbformat": 4,
 "nbformat_minor": 2
}
